{
 "cells": [
  {
   "cell_type": "markdown",
   "id": "7f535368",
   "metadata": {},
   "source": [
    "# random forest without location"
   ]
  },
  {
   "cell_type": "code",
   "execution_count": 2,
   "id": "754ec682",
   "metadata": {},
   "outputs": [
    {
     "name": "stdout",
     "output_type": "stream",
     "text": [
      "Mean Squared Error: 0.004690067808061098\n",
      "Feature Importances:\n"
     ]
    },
    {
     "ename": "NameError",
     "evalue": "name 'feature_importances' is not defined",
     "output_type": "error",
     "traceback": [
      "\u001b[1;31m---------------------------------------------------------------------------\u001b[0m",
      "\u001b[1;31mNameError\u001b[0m                                 Traceback (most recent call last)",
      "Cell \u001b[1;32mIn[2], line 44\u001b[0m\n\u001b[0;32m     38\u001b[0m feature_importances_without_location \u001b[38;5;241m=\u001b[39m pd\u001b[38;5;241m.\u001b[39mDataFrame({\n\u001b[0;32m     39\u001b[0m     \u001b[38;5;124m'\u001b[39m\u001b[38;5;124mFeature\u001b[39m\u001b[38;5;124m'\u001b[39m: X\u001b[38;5;241m.\u001b[39mcolumns,\n\u001b[0;32m     40\u001b[0m     \u001b[38;5;124m'\u001b[39m\u001b[38;5;124mImportance\u001b[39m\u001b[38;5;124m'\u001b[39m: rf_model_without_location\u001b[38;5;241m.\u001b[39mfeature_importances_\n\u001b[0;32m     41\u001b[0m })\u001b[38;5;241m.\u001b[39msort_values(by\u001b[38;5;241m=\u001b[39m\u001b[38;5;124m\"\u001b[39m\u001b[38;5;124mImportance\u001b[39m\u001b[38;5;124m\"\u001b[39m, ascending\u001b[38;5;241m=\u001b[39m\u001b[38;5;28;01mFalse\u001b[39;00m)\n\u001b[0;32m     43\u001b[0m \u001b[38;5;28mprint\u001b[39m(\u001b[38;5;124m\"\u001b[39m\u001b[38;5;124mFeature Importances:\u001b[39m\u001b[38;5;124m\"\u001b[39m)\n\u001b[1;32m---> 44\u001b[0m \u001b[38;5;28mprint\u001b[39m(\u001b[43mfeature_importances\u001b[49m)\n\u001b[0;32m     48\u001b[0m result \u001b[38;5;241m=\u001b[39m permutation_importance(rf_model_without_location, X_test, y_test, n_repeats\u001b[38;5;241m=\u001b[39m\u001b[38;5;241m20\u001b[39m, random_state\u001b[38;5;241m=\u001b[39m\u001b[38;5;241m42\u001b[39m, n_jobs\u001b[38;5;241m=\u001b[39m\u001b[38;5;241m1\u001b[39m)\n\u001b[0;32m     50\u001b[0m \u001b[38;5;66;03m# Organizing the results\u001b[39;00m\n",
      "\u001b[1;31mNameError\u001b[0m: name 'feature_importances' is not defined"
     ]
    }
   ],
   "source": [
    "import pandas as pd\n",
    "from sklearn.model_selection import train_test_split\n",
    "from sklearn.ensemble import RandomForestRegressor\n",
    "from sklearn.metrics import mean_squared_error\n",
    "from sklearn.inspection import permutation_importance\n",
    "import matplotlib.pyplot as plt\n",
    "\n",
    "# Load the dataset\n",
    "file_path = r'G:\\Public\\CYGNSS_clip_csv\\water_fraction\\merged_water_fraction.csv'\n",
    "data = pd.read_csv(file_path)\n",
    "\n",
    "# Drop the specified columns\n",
    "columns_to_ignore = [\n",
    "    \"top_left_lat\", \"top_left_lon\", \"top_right_lat\", \"top_right_lon\",\n",
    "    \"bottom_left_lat\", \"bottom_left_lon\", \"bottom_right_lat\", \"bottom_right_lon\",\n",
    "    \"satellite\",\"date\",\"sample\",\"ddm\"]\n",
    "data = data.drop(columns=columns_to_ignore)\n",
    "\n",
    "# Separate features (X) and target variable (Y)\n",
    "X = data.drop(columns=[\"water_fraction\"])\n",
    "y = data[\"water_fraction\"]\n",
    "\n",
    "# Split the data into training and testing sets\n",
    "X_train, X_test, y_train, y_test = train_test_split(X, y, test_size=0.2, random_state=42)\n",
    "\n",
    "# Train the Random Forest model\n",
    "rf_model_without_location = RandomForestRegressor(n_estimators=100, random_state=42, n_jobs=2)\n",
    "rf_model_without_location.fit(X_train, y_train)\n",
    "\n",
    "# Make predictions on the test set\n",
    "y_pred = rf_model_without_location.predict(X_test)\n",
    "\n",
    "# Evaluate the model\n",
    "mse_without_location = mean_squared_error(y_test, y_pred)\n",
    "print(f\"Mean Squared Error: {mse_without_location}\")\n",
    "\n",
    "# Feature importance\n",
    "feature_importances_without_location = pd.DataFrame({\n",
    "    'Feature': X.columns,\n",
    "    'Importance': rf_model_without_location.feature_importances_\n",
    "}).sort_values(by=\"Importance\", ascending=False)\n",
    "\n",
    "print(\"Feature Importances:\")\n",
    "print(feature_importances)\n",
    "\n",
    "\n",
    "\n",
    "result = permutation_importance(rf_model_without_location, X_test, y_test, n_repeats=20, random_state=42, n_jobs=1)\n",
    "\n",
    "# Organizing the results\n",
    "perm_sorted_idx = result.importances_mean.argsort()\n",
    "plt.figure(figsize=(12, 8))\n",
    "plt.boxplot(result.importances[perm_sorted_idx].T, vert=False, labels=X_test.columns[perm_sorted_idx])\n",
    "plt.title(\"Permutation Importance of Features\")\n",
    "plt.tight_layout()\n",
    "plt.show()"
   ]
  },
  {
   "cell_type": "markdown",
   "id": "3309856d",
   "metadata": {},
   "source": [
    "# random forest without location"
   ]
  },
  {
   "cell_type": "code",
   "execution_count": null,
   "id": "69764733",
   "metadata": {},
   "outputs": [],
   "source": [
    "import pandas as pd\n",
    "from sklearn.model_selection import train_test_split\n",
    "from sklearn.ensemble import RandomForestRegressor\n",
    "from sklearn.metrics import mean_squared_error\n",
    "from sklearn.inspection import permutation_importance\n",
    "import matplotlib.pyplot as plt\n",
    "\n",
    "# Load the dataset\n",
    "file_path = r'G:\\Public\\CYGNSS_clip_csv\\water_fraction\\merged_water_fraction.csv'\n",
    "data = pd.read_csv(file_path)\n",
    "\n",
    "# Drop the specified columns\n",
    "columns_to_ignore = [\n",
    "    \"top_left_lat\", \"top_left_lon\", \"top_right_lat\", \"top_right_lon\",\n",
    "    \"bottom_left_lat\", \"bottom_left_lon\", \"bottom_right_lat\", \"bottom_right_lon\",\n",
    "    \"satellite\",\"date\",\"sample\",\"ddm\"]\n",
    "data = data.drop(columns=columns_to_ignore)\n",
    "\n",
    "# Separate features (X) and target variable (Y)\n",
    "X = data.drop(columns=[\"water_fraction\"])\n",
    "y = data[\"water_fraction\"]\n",
    "\n",
    "# Split the data into training and testing sets\n",
    "X_train, X_test, y_train, y_test = train_test_split(X, y, test_size=0.2, random_state=42)\n",
    "\n",
    "# Train the Random Forest model\n",
    "rf_model_with_location = RandomForestRegressor(n_estimators=100, random_state=42, n_jobs=2)\n",
    "rf_model_with_location.fit(X_train, y_train)\n",
    "\n",
    "# Make predictions on the test set\n",
    "y_pred = rf_model_with_location.predict(X_test)\n",
    "\n",
    "# Evaluate the model\n",
    "mse_with_location = mean_squared_error(y_test, y_pred)\n",
    "print(f\"Mean Squared Error: {mse_with_location}\")\n",
    "\n",
    "# Feature importance\n",
    "feature_importances_with_location = pd.DataFrame({\n",
    "    'Feature': X.columns,\n",
    "    'Importance': rf_model_with_location.feature_importances_\n",
    "}).sort_values(by=\"Importance\", ascending=False)\n",
    "\n",
    "print(\"Feature Importances:\")\n",
    "print(feature_importances)\n",
    "\n",
    "\n",
    "\n",
    "result = permutation_importance(rf_model_with_location, X_test, y_test, n_repeats=20, random_state=42, n_jobs=1)\n",
    "\n",
    "# Organizing the results\n",
    "perm_sorted_idx = result.importances_mean.argsort()\n",
    "plt.figure(figsize=(12, 8))\n",
    "plt.boxplot(result.importances[perm_sorted_idx].T, vert=False, labels=X_test.columns[perm_sorted_idx])\n",
    "plt.title(\"Permutation Importance of Features\")\n",
    "plt.tight_layout()\n",
    "plt.show()"
   ]
  }
 ],
 "metadata": {
  "kernelspec": {
   "display_name": "Python 3 (ipykernel)",
   "language": "python",
   "name": "python3"
  },
  "language_info": {
   "codemirror_mode": {
    "name": "ipython",
    "version": 3
   },
   "file_extension": ".py",
   "mimetype": "text/x-python",
   "name": "python",
   "nbconvert_exporter": "python",
   "pygments_lexer": "ipython3",
   "version": "3.8.16"
  }
 },
 "nbformat": 4,
 "nbformat_minor": 5
}
