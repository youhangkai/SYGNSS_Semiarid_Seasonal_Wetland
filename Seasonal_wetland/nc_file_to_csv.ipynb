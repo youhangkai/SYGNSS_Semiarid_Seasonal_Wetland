{
 "cells": [
  {
   "cell_type": "code",
   "execution_count": 2,
   "id": "64cd1e35",
   "metadata": {
    "scrolled": false
   },
   "outputs": [
    {
     "name": "stderr",
     "output_type": "stream",
     "text": [
      " 16%|████████                                            | 1221/7869 [16:00<2:21:13,  1.27s/it]"
     ]
    },
    {
     "name": "stdout",
     "output_type": "stream",
     "text": [
      "No data in the specified region for cyg03.ddmi.s20231009-153200-e20231009-235959.l1.power-brcs.a31.d32.nc.\n"
     ]
    },
    {
     "name": "stderr",
     "output_type": "stream",
     "text": [
      " 21%|██████████▉                                         | 1654/7869 [27:40<2:19:01,  1.34s/it]"
     ]
    },
    {
     "name": "stdout",
     "output_type": "stream",
     "text": [
      "No data in the specified region for cyg08.ddmi.s20230808-000000-e20230808-235959.l1.power-brcs.a31.d32.nc.\n"
     ]
    },
    {
     "name": "stderr",
     "output_type": "stream",
     "text": [
      "100%|████████████████████████████████████████████████████| 7869/7869 [1:08:55<00:00,  1.90it/s]\n"
     ]
    }
   ],
   "source": [
    "import os\n",
    "import xarray as xr\n",
    "import pandas as pd\n",
    "import numpy as np\n",
    "from tqdm import tqdm\n",
    "\n",
    "input_folder = r\"G:\\Public\\CYGNSS\"  # CYGNSS data path\n",
    "output_folder = r\"G:\\Public\\CYGNSS_clip_csv\"  # Storage path for .csv file after cropping latitude and longitude\n",
    "\n",
    "if not os.path.exists(output_folder):\n",
    "    os.makedirs(output_folder)\n",
    "\n",
    "\n",
    "# Calculate the coordinates of the corners of a square\n",
    "def calculate_square(lat, lon, km_radius):\n",
    "    earth_radius = 6371\n",
    "    delta_lat = (km_radius / earth_radius) * (180 / np.pi)\n",
    "    delta_lon = (km_radius / (earth_radius * np.cos(np.radians(lat)))) * (180 / np.pi)\n",
    "\n",
    "    return {\n",
    "        \"top_left_lat\": lat + delta_lat,\n",
    "        \"top_left_lon\": lon - delta_lon,\n",
    "        \"top_right_lat\": lat + delta_lat,\n",
    "        \"top_right_lon\": lon + delta_lon,\n",
    "        \"bottom_left_lat\": lat - delta_lat,\n",
    "        \"bottom_left_lon\": lon - delta_lon,\n",
    "        \"bottom_right_lat\": lat - delta_lat,\n",
    "        \"bottom_right_lon\": lon + delta_lon\n",
    "    }\n",
    "\n",
    "\n",
    "for file_name in tqdm(os.listdir(input_folder)):\n",
    "    if file_name.endswith(\".nc\") and \"2023\" in file_name:  # Process files from the year 2023\n",
    "        file_path = os.path.join(input_folder, file_name)\n",
    "        output_path = os.path.join(output_folder, file_name.replace(\".nc\", \"_clipped.csv\"))\n",
    "\n",
    "        dataset = xr.open_dataset(file_path)\n",
    "\n",
    "        try:\n",
    "            samples = dataset['sample'].values\n",
    "            ddms = dataset['ddm'].values\n",
    "            sp_lon = dataset['sp_lon'].values\n",
    "            sp_lat = dataset['sp_lat'].values\n",
    "            ddm_snr = dataset['ddm_snr'].values\n",
    "            ptr = dataset['gps_tx_power_db_w'].values\n",
    "            TxSP = dataset['tx_to_sp_range'].values\n",
    "            SPRx = dataset['rx_to_sp_range'].values\n",
    "            rec_antenna_gain = dataset['sp_inc_angle'].values\n",
    "            GPS_antenna_gain = dataset['gps_ant_gain_db_i'].values\n",
    "        except KeyError as e:\n",
    "            print(f\"Error: Missing variable in dataset - {e}\")\n",
    "            dataset.close()\n",
    "            continue\n",
    "\n",
    "        # Adjust longitude range: [0, 360] -> [-180, 180]\n",
    "        sp_lon = np.where(sp_lon > 180, sp_lon - 360, sp_lon)\n",
    "\n",
    "        # Filter sp_lon and sp_lat range: North Africa\n",
    "        lon_min, lon_max = 10, 40\n",
    "        lat_min, lat_max = 5, 20\n",
    "\n",
    "        # Create a mask for filtering\n",
    "        filtered_indices = (sp_lon >= lon_min) & (sp_lon <= lon_max) & \\\n",
    "                           (sp_lat >= lat_min) & (sp_lat <= lat_max)\n",
    "\n",
    "        if not np.any(filtered_indices):\n",
    "            print(f\"No data in the specified region for {file_name}.\")\n",
    "            dataset.close()\n",
    "            continue\n",
    "\n",
    "        # Flatten multi-dimensional arrays for consistent filtering\n",
    "        filtered_indices_flat = filtered_indices.flatten()\n",
    "        filtered_sp_lon = sp_lon.flatten()[filtered_indices_flat]\n",
    "        filtered_sp_lat = sp_lat.flatten()[filtered_indices_flat]\n",
    "        filtered_samples = np.repeat(samples, sp_lon.shape[1])[filtered_indices_flat]\n",
    "        filtered_ddms = np.tile(ddms, sp_lon.shape[0])[filtered_indices_flat]\n",
    "\n",
    "        filtered_ddm_snr = ddm_snr.flatten()[filtered_indices_flat]\n",
    "        filtered_ptr = ptr.flatten()[filtered_indices_flat]\n",
    "        filtered_TxSP = TxSP.flatten()[filtered_indices_flat]\n",
    "        filtered_SPRx = SPRx.flatten()[filtered_indices_flat]\n",
    "        filtered_rec_antenna_gain = rec_antenna_gain.flatten()[filtered_indices_flat]\n",
    "        filtered_GPS_antenna_gain = GPS_antenna_gain.flatten()[filtered_indices_flat]\n",
    "\n",
    "        # Prepare data for DataFrame\n",
    "        data = []\n",
    "        for i in range(len(filtered_samples)):\n",
    "            data.append([filtered_samples[i], filtered_ddms[i], filtered_sp_lon[i], filtered_sp_lat[i], \n",
    "                         filtered_ddm_snr[i], filtered_ptr[i], filtered_TxSP[i], filtered_SPRx[i], \n",
    "                         filtered_rec_antenna_gain[i], filtered_GPS_antenna_gain[i]])\n",
    "\n",
    "        df = pd.DataFrame(data, columns=['sample', 'ddm', 'sp_lon', 'sp_lat', 'ddm_snr', 'gps_tx_power_db_w',\n",
    "                                         'tx_to_sp_range', 'rx_to_sp_range', 'sp_inc_angle', 'gps_ant_gain_db_i'])\n",
    "\n",
    "        # Calculate square quadrangle coordinates for filtered data\n",
    "        km_radius = 1.5  # One side of the square is 3 kilometres long\n",
    "        corners = df.apply(lambda row: calculate_square(row['sp_lat'], row['sp_lon'], km_radius), axis=1)\n",
    "\n",
    "        if corners.empty:\n",
    "            print(\"Warning: No corner coordinates generated.\")\n",
    "        else:\n",
    "            corners_df = pd.DataFrame(corners.tolist())\n",
    "            final_df = pd.concat([df, corners_df], axis=1)\n",
    "            final_df.to_csv(output_path, index=False)\n",
    "            #print(f\"Data saved to {output_path}\")"
   ]
  }
 ],
 "metadata": {
  "kernelspec": {
   "display_name": "Python 3 (ipykernel)",
   "language": "python",
   "name": "python3"
  },
  "language_info": {
   "codemirror_mode": {
    "name": "ipython",
    "version": 3
   },
   "file_extension": ".py",
   "mimetype": "text/x-python",
   "name": "python",
   "nbconvert_exporter": "python",
   "pygments_lexer": "ipython3",
   "version": "3.8.16"
  }
 },
 "nbformat": 4,
 "nbformat_minor": 5
}
