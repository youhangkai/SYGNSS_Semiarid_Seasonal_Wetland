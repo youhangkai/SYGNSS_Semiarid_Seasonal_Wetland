{
 "cells": [
  {
   "cell_type": "code",
   "execution_count": null,
   "id": "b6ed090e",
   "metadata": {
    "scrolled": false
   },
   "outputs": [
    {
     "name": "stderr",
     "output_type": "stream",
     "text": [
      "Processing rows:  29%|███████▌                  | 448812/1532097 [11:17:34<69:45:37,  4.31it/s]"
     ]
    }
   ],
   "source": [
    "import os\n",
    "import pandas as pd\n",
    "import numpy as np\n",
    "import ee\n",
    "from tqdm import tqdm\n",
    "from datetime import datetime\n",
    "\n",
    "\n",
    "ee.Authenticate()\n",
    "ee.Initialize()\n",
    "\n",
    "# Path to the merged CSV file\n",
    "input_csv = r\"G:\\Public\\CYGNSS_clip_csv\\Merged_data\\cygnss_data_month_02.csv\"\n",
    "output_csv = r\"G:\\Public\\CYGNSS_clip_csv\\water_fraction\\water_body_fraction_2023_02.csv\"\n",
    "\n",
    "# Function to calculate water body fraction\n",
    "def calculate_water_fraction(region, date):\n",
    "    # Load Sentinel-1 data\n",
    "    sentinel1 = ee.ImageCollection(\"COPERNICUS/S1_GRD\") \\\n",
    "        .filterBounds(region) \\\n",
    "        .filterDate(date, date.advance(1, 'day')) \\\n",
    "        .filter(ee.Filter.eq('instrumentMode', 'IW')) \\\n",
    "        .filter(ee.Filter.listContains('transmitterReceiverPolarisation', 'VV'))\n",
    "\n",
    "    if sentinel1.size().getInfo() == 0:\n",
    "        return None  # No data for the region and date\n",
    "\n",
    "    # Sentinel-1 VV band\n",
    "    sentinel1_vv = sentinel1.mosaic().select('VV')\n",
    "\n",
    "    # Threshold for water detection (can be adjusted based on the region)\n",
    "    water_mask = sentinel1_vv.lt(-17)\n",
    "\n",
    "    # Calculate the fraction of water area\n",
    "    water_area = water_mask.multiply(ee.Image.pixelArea()).reduceRegion(\n",
    "        reducer=ee.Reducer.sum(),\n",
    "        geometry=region,\n",
    "        scale=10,\n",
    "        maxPixels=1e13\n",
    "    ).get(\"VV\")\n",
    "\n",
    "    total_area = region.area().getInfo()\n",
    "\n",
    "    if water_area.getInfo() is None or total_area == 0:\n",
    "        return None\n",
    "\n",
    "    return water_area.getInfo() / total_area\n",
    "\n",
    "# Read the input CSV\n",
    "data = pd.read_csv(input_csv)\n",
    "\n",
    "# List to store results\n",
    "results = []\n",
    "\n",
    "# Process each row in the CSV\n",
    "for _, row in tqdm(data.iterrows(), total=len(data), desc=\"Processing rows\"):\n",
    "    region_coords = [\n",
    "        [row['top_left_lon'], row['top_left_lat']],\n",
    "        [row['top_right_lon'], row['top_right_lat']],\n",
    "        [row['bottom_right_lon'], row['bottom_right_lat']],\n",
    "        [row['bottom_left_lon'], row['bottom_left_lat']],\n",
    "        [row['top_left_lon'], row['top_left_lat']]  # Close the polygon\n",
    "    ]\n",
    "\n",
    "    region = ee.Geometry.Polygon([region_coords])\n",
    "    \n",
    "    # Ensure the date is formatted for GEE\n",
    "    raw_date = str(row['date'])  # Convert the integer to a string\n",
    "    formatted_date = datetime.strptime(raw_date, '%Y-%m-%d').strftime('%Y-%m-%d')\n",
    "    date = ee.Date(formatted_date)  # Use the formatted date for GEE\n",
    "\n",
    "    # Calculate water fraction\n",
    "    water_fraction = calculate_water_fraction(region, date)\n",
    "\n",
    "    if water_fraction is not None:\n",
    "        #print(region_coords, water_fraction)\n",
    "        results.append({\n",
    "            \"water_fraction\": water_fraction\n",
    "        })\n",
    "\n",
    "# Save the results to a new CSV\n",
    "results_df = pd.DataFrame(results)\n",
    "results_df.to_csv(output_csv, index=False)\n",
    "print(f\"Water body fractions saved to {output_csv}\")"
   ]
  }
 ],
 "metadata": {
  "kernelspec": {
   "display_name": "Python 3 (ipykernel)",
   "language": "python",
   "name": "python3"
  },
  "language_info": {
   "codemirror_mode": {
    "name": "ipython",
    "version": 3
   },
   "file_extension": ".py",
   "mimetype": "text/x-python",
   "name": "python",
   "nbconvert_exporter": "python",
   "pygments_lexer": "ipython3",
   "version": "3.8.16"
  }
 },
 "nbformat": 4,
 "nbformat_minor": 5
}
